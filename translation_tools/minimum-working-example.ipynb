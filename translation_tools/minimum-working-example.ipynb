{
 "cells": [
  {
   "cell_type": "markdown",
   "metadata": {},
   "source": [
    "# Creating New Colormaps"
   ]
  },
  {
   "cell_type": "code",
   "execution_count": null,
   "metadata": {},
   "outputs": [],
   "source": [
    "import numpy as np\n",
    "from mpl2flu import *\n",
    "from pathlib import Path"
   ]
  },
  {
   "cell_type": "markdown",
   "metadata": {},
   "source": [
    "### Write Colormap from an RGB Text File\n",
    "This is the colorblind safe version of Viridis from cmaputil."
   ]
  },
  {
   "cell_type": "code",
   "execution_count": null,
   "metadata": {},
   "outputs": [],
   "source": [
    "url = 'https://github.com/pnnl/cmaputil/raw/master/colormaps/cividis.txt'\n",
    "rgb = read_data(url)\n",
    "filename = Path('../colormaps/cividis.colormap')\n",
    "write_cmap(rgb,filename);"
   ]
  },
  {
   "cell_type": "markdown",
   "metadata": {},
   "source": [
    "### Write Inferno Colormap from Matplotlib\n",
    "We'll choose a size of 32. This should produce a warning; 32 colors is just an \n",
    "arbitrary cutoff, but hopefully this message is helpful.\n",
    "\n",
    "We'll also name the filename with the colormap append length."
   ]
  },
  {
   "cell_type": "code",
   "execution_count": null,
   "metadata": {},
   "outputs": [],
   "source": [
    "mpl2flu(cmap_len=32, cmap_names='inferno',name_with_num=True)"
   ]
  },
  {
   "cell_type": "markdown",
   "metadata": {},
   "source": [
    "We'll try that again, with `warn=off`, and leaving out the colormap length."
   ]
  },
  {
   "cell_type": "code",
   "execution_count": null,
   "metadata": {},
   "outputs": [],
   "source": [
    "mpl2flu(cmap_len=128, cmap_names='inferno',warn=False);"
   ]
  },
  {
   "cell_type": "markdown",
   "metadata": {},
   "source": [
    "To add all the colormaps from matplotlib, you can use `cmap_names='all'`, which is the default."
   ]
  },
  {
   "cell_type": "markdown",
   "metadata": {},
   "source": [
    "mpl2flu();"
   ]
  },
  {
   "cell_type": "markdown",
   "metadata": {},
   "source": [
    "### Other Input Types\n",
    "Let's try some colors from https://gka.github.io/palettes/"
   ]
  },
  {
   "cell_type": "code",
   "execution_count": null,
   "metadata": {},
   "outputs": [],
   "source": [
    "colors = '#ffffe0 #ffd59b #ffa474 #f47461 #db4551 #b81b34 #8b0000'\n",
    "rgb = read_data(colors)"
   ]
  },
  {
   "cell_type": "code",
   "execution_count": null,
   "metadata": {},
   "outputs": [],
   "source": [
    "write_cmap(rgb,filename='colormaps/chromajs.colormap');"
   ]
  },
  {
   "cell_type": "markdown",
   "metadata": {},
   "source": [
    "There's also http://colorbrewer2.org/  All these should be available from matplotlib, but we'll try the hard way here just because. This is copy-pasted from the website."
   ]
  },
  {
   "cell_type": "code",
   "execution_count": null,
   "metadata": {},
   "outputs": [],
   "source": [
    "colors = '''\n",
    "215,48,39\n",
    "244,109,67\n",
    "253,174,97\n",
    "254,224,144\n",
    "255,255,191\n",
    "224,243,248\n",
    "171,217,233\n",
    "116,173,209\n",
    "69,117,180\n",
    "'''\n",
    "rgb = read_data(colors)\n",
    "write_cmap(rgb,filename='colormaps/rdylbu.colormap');"
   ]
  }
 ],
 "metadata": {
  "kernelspec": {
   "display_name": "Python 3",
   "language": "python",
   "name": "python3"
  },
  "language_info": {
   "codemirror_mode": {
    "name": "ipython",
    "version": 3
   },
   "file_extension": ".py",
   "mimetype": "text/x-python",
   "name": "python",
   "nbconvert_exporter": "python",
   "pygments_lexer": "ipython3",
   "version": "3.6.6"
  }
 },
 "nbformat": 4,
 "nbformat_minor": 2
}
